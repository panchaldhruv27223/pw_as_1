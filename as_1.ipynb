{
 "cells": [
  {
   "cell_type": "code",
   "execution_count": null,
   "id": "5e1579f1",
   "metadata": {},
   "outputs": [],
   "source": [
    "Q1. Create one variable containing following type of data:\n",
    "(i) string\n",
    "(ii) list\n",
    "(iii) float\n",
    "(iv) tuple"
   ]
  },
  {
   "cell_type": "code",
   "execution_count": 3,
   "id": "09d4dd06",
   "metadata": {},
   "outputs": [],
   "source": [
    "a = [\"Dhruv\" ,[1,2,3,4],3.56,(\"d\",\"p\",\"s\",\"n\")]\n",
    "b=\"dhruv\"\n",
    "c=[3,5,6,8,9]\n",
    "d=3.45\n",
    "t=(\"dhruv\",\"pravin\",\"chintan\",\"jay\")"
   ]
  },
  {
   "cell_type": "code",
   "execution_count": 6,
   "id": "36c9a449",
   "metadata": {},
   "outputs": [
    {
     "name": "stdout",
     "output_type": "stream",
     "text": [
      "<class 'list'>\n",
      "<class 'str'>\n",
      "<class 'list'>\n",
      "<class 'float'>\n",
      "<class 'tuple'>\n",
      "<class 'str'>\n",
      "<class 'list'>\n",
      "<class 'float'>\n",
      "<class 'tuple'>\n"
     ]
    }
   ],
   "source": [
    "print(type(a))\n",
    "print(type(b))\n",
    "print(type(c))\n",
    "print(type(d))\n",
    "print(type(t))\n",
    "\n",
    "for i in a :\n",
    "    print(type(i))"
   ]
  },
  {
   "cell_type": "code",
   "execution_count": null,
   "id": "0d677eac",
   "metadata": {},
   "outputs": [],
   "source": [
    "Q2. Given are some following variables containing data:\n",
    "(i) var1 = ‘ ‘\n",
    "(ii) var2 = ‘[ DS , ML , Python]’\n",
    "(iii) var3 = [ ‘DS’ , ’ML’ , ‘Python’ ]\n",
    "(iv) var4 = 1\n",
    "\n",
    "What will be the data type of the above given variable."
   ]
  },
  {
   "cell_type": "code",
   "execution_count": 8,
   "id": "fd0e5f73",
   "metadata": {},
   "outputs": [],
   "source": [
    "var1 =''\n",
    "var2 = '[ DS , ML , Python]'\n",
    "var3 = [ 'DS' , 'ML' , 'Python' ]\n",
    "var4 = 1"
   ]
  },
  {
   "cell_type": "code",
   "execution_count": 9,
   "id": "53b3e89e",
   "metadata": {},
   "outputs": [
    {
     "name": "stdout",
     "output_type": "stream",
     "text": [
      "<class 'str'>\n",
      "<class 'str'>\n",
      "<class 'list'>\n",
      "<class 'int'>\n"
     ]
    }
   ],
   "source": [
    "print(type(var1))\n",
    "print(type(var2))\n",
    "print(type(var3))\n",
    "print(type(var4))"
   ]
  },
  {
   "cell_type": "code",
   "execution_count": null,
   "id": "c806b0cc",
   "metadata": {},
   "outputs": [],
   "source": [
    "Q3. Explain the use of the following operators using an example:\n",
    "(i) /\n",
    "(ii) %\n",
    "(iii) //\n",
    "(iv) **"
   ]
  },
  {
   "cell_type": "code",
   "execution_count": 18,
   "id": "f27b78c0",
   "metadata": {},
   "outputs": [
    {
     "name": "stdout",
     "output_type": "stream",
     "text": [
      "5.0\n",
      "7.5\n"
     ]
    }
   ],
   "source": [
    "# (i) --> (/) : it is a division operator\n",
    "\n",
    "a=10\n",
    "b=2\n",
    "c=a/b\n",
    "print(c)\n",
    "\n",
    "a = 15\n",
    "c = a/b\n",
    "print(c)"
   ]
  },
  {
   "cell_type": "code",
   "execution_count": 19,
   "id": "9d7c7d7c",
   "metadata": {},
   "outputs": [
    {
     "name": "stdout",
     "output_type": "stream",
     "text": [
      "0\n",
      "0\n"
     ]
    }
   ],
   "source": [
    "# (ii) --> (%) : it is a modulo operator \n",
    "\n",
    "a = 10\n",
    "b = 2\n",
    "c=a%b\n",
    "print(c)\n",
    "\n",
    "a = 42\n",
    "b = 3 \n",
    "c = a%b\n",
    "print(c)\n",
    "\n"
   ]
  },
  {
   "cell_type": "code",
   "execution_count": 22,
   "id": "3cc2b75c",
   "metadata": {},
   "outputs": [
    {
     "name": "stdout",
     "output_type": "stream",
     "text": [
      "7\n"
     ]
    }
   ],
   "source": [
    "# (iii) --> (//) : it is a floor division\n",
    "\n",
    "a = 15\n",
    "b= 2\n",
    "c=a//b\n",
    "print(c)"
   ]
  },
  {
   "cell_type": "code",
   "execution_count": 25,
   "id": "42116b61",
   "metadata": {},
   "outputs": [
    {
     "name": "stdout",
     "output_type": "stream",
     "text": [
      "25\n",
      "125\n"
     ]
    }
   ],
   "source": [
    "# (iv) --> (**): it is a Exponentiation operator\n",
    "\n",
    "a =5\n",
    "print(a**2)\n",
    "print(a**3)"
   ]
  },
  {
   "cell_type": "code",
   "execution_count": null,
   "id": "18b35ee1",
   "metadata": {},
   "outputs": [],
   "source": [
    "Q4. Create a list of length 10 of your choice containing multiple types of data. Using for loop print the\n",
    "element and its data type."
   ]
  },
  {
   "cell_type": "code",
   "execution_count": 29,
   "id": "77800781",
   "metadata": {},
   "outputs": [
    {
     "name": "stdout",
     "output_type": "stream",
     "text": [
      "1 <class 'int'>\n",
      "2 <class 'int'>\n",
      "3 <class 'int'>\n",
      "4 <class 'int'>\n",
      "dhruv <class 'str'>\n",
      "1.03 <class 'float'>\n",
      "True <class 'bool'>\n",
      "False <class 'bool'>\n",
      "[3, 45, 67] <class 'list'>\n",
      "(3+2j) <class 'complex'>\n"
     ]
    }
   ],
   "source": [
    "l = [1,2,3,4,\"dhruv\",1.03,True,False,[3,45,67],3+2j]\n",
    "\n",
    "# print(len(l))\n",
    "for i in l :\n",
    "    print(i, end=\" \")\n",
    "    print(type(i))"
   ]
  },
  {
   "cell_type": "code",
   "execution_count": null,
   "id": "fa9ad116",
   "metadata": {},
   "outputs": [],
   "source": [
    "Q5. Using a while loop, verify if the number A is purely divisible by number B and if so then how many\n",
    "times it can be divisible."
   ]
  },
  {
   "cell_type": "code",
   "execution_count": 39,
   "id": "ad700d02",
   "metadata": {
    "scrolled": true
   },
   "outputs": [
    {
     "name": "stdout",
     "output_type": "stream",
     "text": [
      "45.0\n",
      "15.0\n",
      "5.0\n",
      "3\n"
     ]
    }
   ],
   "source": [
    "A = 135\n",
    "B = 3\n",
    "\n",
    "count = 0\n",
    "if A%B == 0:\n",
    "    t  = True\n",
    "while t :\n",
    "    if A%B == 0:\n",
    "        A = A/B\n",
    "        print(A)\n",
    "        count = count + 1\n",
    "    else:\n",
    "        t = False\n",
    "print(count)"
   ]
  },
  {
   "cell_type": "code",
   "execution_count": null,
   "id": "1f7fb32f",
   "metadata": {},
   "outputs": [],
   "source": [
    "Q6. Create a list containing 25 int type data. Using for loop and if-else condition print if the element is\n",
    "divisible by 3 or not."
   ]
  },
  {
   "cell_type": "code",
   "execution_count": 41,
   "id": "a17b8673",
   "metadata": {},
   "outputs": [
    {
     "name": "stdout",
     "output_type": "stream",
     "text": [
      "number is not divisible by 3 : 1\n",
      "number is not divisible by 3 : 2\n",
      "number is divisible by 3 :3\n",
      "number is not divisible by 3 : 4\n",
      "number is not divisible by 3 : 5\n",
      "number is divisible by 3 :6\n",
      "number is not divisible by 3 : 7\n",
      "number is not divisible by 3 : 8\n",
      "number is divisible by 3 :9\n",
      "number is not divisible by 3 : 10\n",
      "number is not divisible by 3 : 11\n",
      "number is divisible by 3 :12\n",
      "number is not divisible by 3 : 13\n",
      "number is not divisible by 3 : 14\n",
      "number is divisible by 3 :15\n",
      "number is not divisible by 3 : 16\n",
      "number is not divisible by 3 : 17\n",
      "number is divisible by 3 :18\n",
      "number is not divisible by 3 : 19\n",
      "number is not divisible by 3 : 20\n",
      "number is divisible by 3 :21\n",
      "number is not divisible by 3 : 22\n",
      "number is not divisible by 3 : 23\n",
      "number is divisible by 3 :24\n",
      "number is not divisible by 3 : 25\n"
     ]
    }
   ],
   "source": [
    "l = []\n",
    "for i in range(1,26):\n",
    "    l.append(i)\n",
    "# print(l)\n",
    "for i in l :\n",
    "    if i%3 ==0:\n",
    "        print(\"number is divisible by 3 :\" +str(i))\n",
    "    else:\n",
    "        print(\"number is not divisible by 3 :\",str(i))"
   ]
  },
  {
   "cell_type": "code",
   "execution_count": null,
   "id": "08cb8e64",
   "metadata": {},
   "outputs": [],
   "source": [
    "Q7. What do you understand about mutable and immutable data types? Give examples for both showing\n",
    "this property."
   ]
  },
  {
   "cell_type": "code",
   "execution_count": null,
   "id": "6a184077",
   "metadata": {},
   "outputs": [],
   "source": [
    "mutable : mutable means you can change or update data without re-assingment after creation.\n",
    "    \n",
    "immutable : immutable you can not chnage or update data after creation."
   ]
  },
  {
   "cell_type": "code",
   "execution_count": 6,
   "id": "e3ecdf8f",
   "metadata": {},
   "outputs": [
    {
     "name": "stdout",
     "output_type": "stream",
     "text": [
      "1\n",
      "10\n"
     ]
    }
   ],
   "source": [
    "# mutable :\n",
    "\n",
    "l = [1,2,3,4,5,6]\n",
    "print(l[0])\n",
    "l[0]=10\n",
    "print(l[0])\n",
    "#  so list is mutable thta menas it can be update or chnage after a creation."
   ]
  },
  {
   "cell_type": "code",
   "execution_count": 11,
   "id": "db49a371",
   "metadata": {},
   "outputs": [
    {
     "data": {
      "text/plain": [
       "'d'"
      ]
     },
     "execution_count": 11,
     "metadata": {},
     "output_type": "execute_result"
    }
   ],
   "source": [
    "string=\"dhruv\"\n",
    "string[0]"
   ]
  },
  {
   "cell_type": "code",
   "execution_count": 13,
   "id": "1b862f30",
   "metadata": {},
   "outputs": [
    {
     "ename": "TypeError",
     "evalue": "'str' object does not support item assignment",
     "output_type": "error",
     "traceback": [
      "\u001b[1;31m---------------------------------------------------------------------------\u001b[0m",
      "\u001b[1;31mTypeError\u001b[0m                                 Traceback (most recent call last)",
      "Cell \u001b[1;32mIn[13], line 1\u001b[0m\n\u001b[1;32m----> 1\u001b[0m \u001b[43mstring\u001b[49m\u001b[43m[\u001b[49m\u001b[38;5;241;43m0\u001b[39;49m\u001b[43m]\u001b[49m\u001b[38;5;241m=\u001b[39m\u001b[38;5;124m\"\u001b[39m\u001b[38;5;124mb\u001b[39m\u001b[38;5;124m\"\u001b[39m\n",
      "\u001b[1;31mTypeError\u001b[0m: 'str' object does not support item assignment"
     ]
    }
   ],
   "source": [
    "string[0]=\"b\""
   ]
  },
  {
   "cell_type": "code",
   "execution_count": null,
   "id": "11969cfc",
   "metadata": {},
   "outputs": [],
   "source": [
    "#  str is not mutable it can not change or update after creation."
   ]
  }
 ],
 "metadata": {
  "kernelspec": {
   "display_name": "Python 3 (ipykernel)",
   "language": "python",
   "name": "python3"
  },
  "language_info": {
   "codemirror_mode": {
    "name": "ipython",
    "version": 3
   },
   "file_extension": ".py",
   "mimetype": "text/x-python",
   "name": "python",
   "nbconvert_exporter": "python",
   "pygments_lexer": "ipython3",
   "version": "3.9.7"
  }
 },
 "nbformat": 4,
 "nbformat_minor": 5
}
